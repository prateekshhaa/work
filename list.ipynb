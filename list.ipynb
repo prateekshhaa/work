{
  "nbformat": 4,
  "nbformat_minor": 0,
  "metadata": {
    "colab": {
      "name": "list.ipynb",
      "provenance": [],
      "collapsed_sections": [],
      "include_colab_link": true
    },
    "kernelspec": {
      "name": "python3",
      "display_name": "Python 3"
    }
  },
  "cells": [
    {
      "cell_type": "markdown",
      "metadata": {
        "id": "view-in-github",
        "colab_type": "text"
      },
      "source": [
        "<a href=\"https://colab.research.google.com/github/prateekshhaa/work/blob/master/list.ipynb\" target=\"_parent\"><img src=\"https://colab.research.google.com/assets/colab-badge.svg\" alt=\"Open In Colab\"/></a>"
      ]
    },
    {
      "cell_type": "markdown",
      "metadata": {
        "id": "waXH6cJO-ceD",
        "colab_type": "text"
      },
      "source": [
        "#A list is a collection which is ordered and changeable. In Python lists are written with square brackets.\n",
        "\n",
        "# its functions with examples -\n",
        "\n",
        "#1.append - Adds an item to the end of the list.\n"
      ]
    },
    {
      "cell_type": "code",
      "metadata": {
        "id": "xYEv6MdN_5Em",
        "colab_type": "code",
        "colab": {
          "base_uri": "https://localhost:8080/",
          "height": 34
        },
        "outputId": "5b748489-f3b6-4d50-b995-2bc843e1a8fb"
      },
      "source": [
        "a=[\"prateeksha\",\"sayali\",\"pooja\"]\n",
        "print(a)"
      ],
      "execution_count": null,
      "outputs": [
        {
          "output_type": "stream",
          "text": [
            "['prateeksha', 'sayali', 'pooja']\n"
          ],
          "name": "stdout"
        }
      ]
    },
    {
      "cell_type": "code",
      "metadata": {
        "id": "luc8pLKC_Ohz",
        "colab_type": "code",
        "colab": {
          "base_uri": "https://localhost:8080/",
          "height": 34
        },
        "outputId": "1a98709b-b85a-422c-9f6a-a4aa16356e8f"
      },
      "source": [
        "a.append(\"kiara\")\n",
        "print(a)"
      ],
      "execution_count": null,
      "outputs": [
        {
          "output_type": "stream",
          "text": [
            "['prateeksha', 'sayali', 'pooja', 'kiara']\n"
          ],
          "name": "stdout"
        }
      ]
    },
    {
      "cell_type": "markdown",
      "metadata": {
        "id": "vzHy2gXmA5gV",
        "colab_type": "text"
      },
      "source": [
        "#2.extend - Extends the list by appending all the items from the iterable. This allows you to join two lists together."
      ]
    },
    {
      "cell_type": "code",
      "metadata": {
        "id": "tPub4csxBfvE",
        "colab_type": "code",
        "colab": {
          "base_uri": "https://localhost:8080/",
          "height": 34
        },
        "outputId": "84eca23a-6e66-4304-c0b7-39db12f50b1c"
      },
      "source": [
        "b=[\"pratee\",\"sayli\"]\n",
        "print(b)"
      ],
      "execution_count": null,
      "outputs": [
        {
          "output_type": "stream",
          "text": [
            "['pratee', 'sayli']\n"
          ],
          "name": "stdout"
        }
      ]
    },
    {
      "cell_type": "code",
      "metadata": {
        "id": "Vg15EMaMBtjG",
        "colab_type": "code",
        "colab": {
          "base_uri": "https://localhost:8080/",
          "height": 34
        },
        "outputId": "9db1bcb0-5960-47ab-9a8d-e8f4233332a8"
      },
      "source": [
        "b.extend([\"pooja\",\"kiara\"])\n",
        "print(b)"
      ],
      "execution_count": null,
      "outputs": [
        {
          "output_type": "stream",
          "text": [
            "['pratee', 'sayli', 'pooja', 'kiara']\n"
          ],
          "name": "stdout"
        }
      ]
    },
    {
      "cell_type": "markdown",
      "metadata": {
        "id": "w-jZVhwTCF9a",
        "colab_type": "text"
      },
      "source": [
        "#3.insert - Inserts an item at a given position. The first argument is the index of the element before which to insert."
      ]
    },
    {
      "cell_type": "code",
      "metadata": {
        "id": "T12TTAoqDSWl",
        "colab_type": "code",
        "colab": {
          "base_uri": "https://localhost:8080/",
          "height": 34
        },
        "outputId": "144477ad-98f7-4a90-aa82-26fa50f87f3c"
      },
      "source": [
        "c=[\"pratee\",\"sayli\"]\n",
        "print(c)"
      ],
      "execution_count": null,
      "outputs": [
        {
          "output_type": "stream",
          "text": [
            "['pratee', 'sayli']\n"
          ],
          "name": "stdout"
        }
      ]
    },
    {
      "cell_type": "code",
      "metadata": {
        "id": "Z5rX_FcPDoo8",
        "colab_type": "code",
        "colab": {
          "base_uri": "https://localhost:8080/",
          "height": 34
        },
        "outputId": "4ae673a4-e3d4-4045-f337-0fb6d59c84f1"
      },
      "source": [
        "c.insert(0,\"pooja\")\n",
        "print(c)"
      ],
      "execution_count": null,
      "outputs": [
        {
          "output_type": "stream",
          "text": [
            "['pooja', 'pratee', 'sayli']\n"
          ],
          "name": "stdout"
        }
      ]
    },
    {
      "cell_type": "markdown",
      "metadata": {
        "id": "1DqiJFjAD06p",
        "colab_type": "text"
      },
      "source": [
        "#4.remove- Removes the first item from the list"
      ]
    },
    {
      "cell_type": "code",
      "metadata": {
        "id": "jS7m4UTGEZpW",
        "colab_type": "code",
        "colab": {
          "base_uri": "https://localhost:8080/",
          "height": 34
        },
        "outputId": "61027fd7-88f2-4ff1-c186-b53a6151e5fc"
      },
      "source": [
        "d=[\"sayli\",\"pooja\"]\n",
        "print(d)"
      ],
      "execution_count": null,
      "outputs": [
        {
          "output_type": "stream",
          "text": [
            "['sayli', 'pooja']\n"
          ],
          "name": "stdout"
        }
      ]
    },
    {
      "cell_type": "code",
      "metadata": {
        "id": "qHf5npRCEiGw",
        "colab_type": "code",
        "colab": {
          "base_uri": "https://localhost:8080/",
          "height": 34
        },
        "outputId": "00f61c40-bec4-4640-8084-f90394579b04"
      },
      "source": [
        "d.remove(\"sayli\")\n",
        "print(d)"
      ],
      "execution_count": null,
      "outputs": [
        {
          "output_type": "stream",
          "text": [
            "['pooja']\n"
          ],
          "name": "stdout"
        }
      ]
    },
    {
      "cell_type": "markdown",
      "metadata": {
        "id": "a-CqsDVRE2O4",
        "colab_type": "text"
      },
      "source": [
        "#5.pop-Removes the item at the given position in the list, and returns it. If no index is specified, pop removes and returns the last item in the list."
      ]
    },
    {
      "cell_type": "code",
      "metadata": {
        "id": "ovpCPFUDFOKx",
        "colab_type": "code",
        "colab": {
          "base_uri": "https://localhost:8080/",
          "height": 34
        },
        "outputId": "fb0fe9c0-c47c-4307-896b-1003684a46cc"
      },
      "source": [
        "e=[\"sayli\",\"pooja\",\"pratee\"]\n",
        "print(e)"
      ],
      "execution_count": null,
      "outputs": [
        {
          "output_type": "stream",
          "text": [
            "['sayli', 'pooja', 'pratee']\n"
          ],
          "name": "stdout"
        }
      ]
    },
    {
      "cell_type": "code",
      "metadata": {
        "id": "J01Xcxi3Fdc2",
        "colab_type": "code",
        "colab": {
          "base_uri": "https://localhost:8080/",
          "height": 34
        },
        "outputId": "20dbb2bb-347c-4500-a463-303da141fa7f"
      },
      "source": [
        "e.pop()\n",
        "print(e)"
      ],
      "execution_count": null,
      "outputs": [
        {
          "output_type": "stream",
          "text": [
            "['sayli']\n"
          ],
          "name": "stdout"
        }
      ]
    },
    {
      "cell_type": "code",
      "metadata": {
        "id": "gaiZnOBGFykh",
        "colab_type": "code",
        "colab": {
          "base_uri": "https://localhost:8080/",
          "height": 34
        },
        "outputId": "73290b11-ec86-4b4a-8713-77ef95a18784"
      },
      "source": [
        "e.pop(0)\n",
        "print(e)"
      ],
      "execution_count": null,
      "outputs": [
        {
          "output_type": "stream",
          "text": [
            "[]\n"
          ],
          "name": "stdout"
        }
      ]
    },
    {
      "cell_type": "code",
      "metadata": {
        "id": "hxJT_YgGF7WB",
        "colab_type": "code",
        "colab": {}
      },
      "source": [
        ""
      ],
      "execution_count": null,
      "outputs": []
    }
  ]
}